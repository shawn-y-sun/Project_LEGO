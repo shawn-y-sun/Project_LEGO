{
 "cells": [
  {
   "cell_type": "code",
   "execution_count": 1,
   "metadata": {},
   "outputs": [],
   "source": [
    "import pandas as pd\n",
    "import numpy as np"
   ]
  },
  {
   "cell_type": "markdown",
   "metadata": {},
   "source": [
    "## Internal Data"
   ]
  },
  {
   "cell_type": "code",
   "execution_count": 2,
   "metadata": {},
   "outputs": [
    {
     "name": "stdout",
     "output_type": "stream",
     "text": [
      "            Fixed_balance  Fixed_price  Redeemable_balance  Redeemable_price  \\\n",
      "Date                                                                           \n",
      "2018-01-31    1525.766256     0.054260          808.925168          0.018648   \n",
      "2018-02-28    1540.515474     0.046348          835.771506          0.034777   \n",
      "2018-03-31    1566.467979     0.026517          863.370334          0.017302   \n",
      "2018-04-30    1563.129764     0.022823          896.188563          0.036981   \n",
      "2018-05-31    1583.883081     0.045697          908.819056          0.032661   \n",
      "\n",
      "             VR_balance  VR_price  \n",
      "Date                               \n",
      "2018-01-31  1022.483571  0.045600  \n",
      "2018-02-28  1041.792249  0.023520  \n",
      "2018-03-31  1065.030692  0.025023  \n",
      "2018-04-30  1092.645841  0.013759  \n",
      "2018-05-31  1111.475074  0.033131  \n"
     ]
    }
   ],
   "source": [
    "np.random.seed(42)\n",
    "dates = pd.date_range('2018-01-01', '2023-12-01', freq='M')\n",
    "n = len(dates)\n",
    "\n",
    "# Simulate cumulative balances\n",
    "balances = {\n",
    "    'VR_balance': 1000 + np.cumsum(np.random.normal(20, 5, n)),\n",
    "    'Fixed_balance': 1500 + np.cumsum(np.random.normal(15, 7, n)),\n",
    "    'Redeemable_balance': 800 + np.cumsum(np.random.normal(25, 10, n))\n",
    "}\n",
    "\n",
    "# Simulate monthly pricing levels (e.g. interest or price index)\n",
    "prices = {\n",
    "    'VR_price': np.random.uniform(0.01, 0.05, n),\n",
    "    'Fixed_price': np.random.uniform(0.02, 0.06, n),\n",
    "    'Redeemable_price': np.random.uniform(0.015, 0.055, n)\n",
    "}\n",
    "\n",
    "internal_df = pd.DataFrame({**balances, **prices}, index=dates)\n",
    "internal_df.index.name = 'Date'\n",
    "\n",
    "# View the first 5 rows\n",
    "print(internal_df.head())"
   ]
  },
  {
   "cell_type": "code",
   "execution_count": 3,
   "metadata": {},
   "outputs": [],
   "source": [
    "internal_df.to_excel('fake_internal.xlsx')"
   ]
  },
  {
   "cell_type": "markdown",
   "metadata": {},
   "source": [
    "## Model MEV"
   ]
  },
  {
   "cell_type": "code",
   "execution_count": 4,
   "metadata": {},
   "outputs": [],
   "source": [
    "def generate_raw_mev_tables(\n",
    "    start: str = '2000Q1',\n",
    "    end: str = '2030Q4',\n",
    "    data_defs: dict = None,\n",
    "    scenario_factors: dict = None\n",
    ") -> dict:\n",
    "    \"\"\"\n",
    "    Generate raw MEV tables (with multi-line headers) for a base model and multiple scenarios.\n",
    "\n",
    "    Parameters\n",
    "    ----------\n",
    "    start : str\n",
    "        Start quarter in 'YYYYQn' format, e.g. '2000Q1'.\n",
    "    end : str\n",
    "        End quarter in 'YYYYQn' format, e.g. '2030Q4'.\n",
    "    data_defs : dict\n",
    "        Mapping of code -> (base level generator), e.g. {\n",
    "            'NGDP': lambda n: 10000+np.linspace(0,500,n)+np.random.normal(0,50,n),\n",
    "            'PSR':  lambda n: np.random.uniform(3,8,n),\n",
    "            ...\n",
    "        }\n",
    "    scenario_factors : dict\n",
    "        Mapping of scenario_name -> dict of code->multiplier.\n",
    "        Example:\n",
    "          {\n",
    "            'base': {'NGDP':1.0, 'PSR':1.0, ...},\n",
    "            'adv':  {'NGDP':0.95, 'PSR':0.95, ...},\n",
    "            'sev':  {'NGDP':0.9 , 'PSR':0.9 , ...},\n",
    "          }\n",
    "\n",
    "    Returns\n",
    "    -------\n",
    "    raw_tables : dict\n",
    "        Mapping of sheet_name -> raw DataFrame ready for Excel export.\n",
    "    \"\"\"\n",
    "    # 1) Prepare quarterly index\n",
    "    periods = pd.period_range(start, end, freq='Q')\n",
    "    n = len(periods)\n",
    "\n",
    "    # 2) Build base data\n",
    "    if data_defs is None:\n",
    "        data_defs = {\n",
    "            'NGDP':   lambda n: 10000 + np.linspace(0, 500, n) + np.random.normal(0, 50, n),\n",
    "            'PSR':    lambda n: np.random.uniform(3, 8, n),\n",
    "            'PDI':    lambda n: 8000  + np.linspace(0, 300, n) + np.random.normal(0, 30, n),\n",
    "            'UNRATE': lambda n: np.random.uniform(3, 10, n),\n",
    "            'CPI':    lambda n: 100   + np.linspace(0, 5, n)   + np.random.normal(0, 0.3, n),\n",
    "        }\n",
    "    df_base = pd.DataFrame(\n",
    "        {code: gen(n) for code, gen in data_defs.items()},\n",
    "        index=periods.to_timestamp(how='end')\n",
    "    )\n",
    "    df_base.index.name = 'Date'\n",
    "\n",
    "    # 3) Default scenario factors if none provided\n",
    "    if scenario_factors is None:\n",
    "        scenario_factors = {\n",
    "            'base': {c:1.0 for c in data_defs},\n",
    "            'adv' : {c:(0.95 if c in ['NGDP','PSR'] else 1.1) for c in data_defs},\n",
    "            'sev' : {c:(0.90 if c in ['NGDP','PSR'] else 1.2) for c in data_defs},\n",
    "        }\n",
    "\n",
    "    # 4) Prepare header rows\n",
    "    codes = list(data_defs.keys())\n",
    "    # descriptive names derived from codes\n",
    "    desc_names = {\n",
    "        'NGDP': 'Nominal GDP (Billions)',\n",
    "        'PSR':  'Personal Savings Rate (%)',\n",
    "        'PDI':  'Personal Disposable Income (Billions)',\n",
    "        'UNRATE': 'Unemployment Rate (%)',\n",
    "        'CPI': 'Consumer Price Index'\n",
    "    }\n",
    "    # Use mapping or code itself\n",
    "    names = [desc_names.get(c, c) for c in codes]\n",
    "\n",
    "    top_row = ['Metadata'] + [''] * len(codes)\n",
    "    mid_row = ['Metadata2'] * (1 + len(codes))\n",
    "    desc_row = ['Date', ''] + [f'Canada\\n{names[i]}' for i in range(len(codes))]\n",
    "    code_row = ['', ''] + codes\n",
    "\n",
    "    # 5) Build raw tables for each scenario\n",
    "    raw_tables = {}\n",
    "    for sce, factors in scenario_factors.items():\n",
    "        df = df_base.copy()\n",
    "        for c, f in factors.items():\n",
    "            df[c] = (df[c] * f).round(2)\n",
    "        # Data rows labeled 'YYYY:Qn'\n",
    "        data_rows = [\n",
    "            [f\"{ts.year}:{ts.quarter}\", ''] + list(vals)\n",
    "            for ts, vals in df.iterrows()\n",
    "        ]\n",
    "        raw = pd.DataFrame([top_row, mid_row, desc_row, code_row, code_row, code_row] + data_rows)\n",
    "        raw_tables[sce] = raw\n",
    "\n",
    "    return raw_tables"
   ]
  },
  {
   "cell_type": "code",
   "execution_count": 5,
   "metadata": {},
   "outputs": [],
   "source": [
    "raw_tables = generate_raw_mev_tables()\n",
    "with pd.ExcelWriter('fake_scens.xlsx') as writer:\n",
    "    for sheet, df in raw_tables.items():\n",
    "        df.to_excel(writer, sheet_name=sheet, index=False, header=False)"
   ]
  }
 ],
 "metadata": {
  "kernelspec": {
   "display_name": "Python 3",
   "language": "python",
   "name": "python3"
  },
  "language_info": {
   "codemirror_mode": {
    "name": "ipython",
    "version": 3
   },
   "file_extension": ".py",
   "mimetype": "text/x-python",
   "name": "python",
   "nbconvert_exporter": "python",
   "pygments_lexer": "ipython3",
   "version": "3.6.10"
  }
 },
 "nbformat": 4,
 "nbformat_minor": 4
}
