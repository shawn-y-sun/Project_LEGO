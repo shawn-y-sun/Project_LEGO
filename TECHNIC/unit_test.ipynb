{
 "cells": [
  {
   "cell_type": "code",
   "execution_count": 1,
   "id": "ca8280ca",
   "metadata": {},
   "outputs": [
    {
     "name": "stdout",
     "output_type": "stream",
     "text": [
      "Generated TSFM combinations:\n",
      "[TSFM('GDP', 'GDP_LV'), TSFM('Unemp', 'Unemp_QQ')]\n",
      "[TSFM('GDP', 'GDP_LV'), TSFM('Unemp', 'Unemp_QQ_L1')]\n",
      "[TSFM('GDP', 'GDP_LV'), TSFM('Unemp', 'Unemp_QQ_L2')]\n",
      "\n",
      "Total combinations: 3\n"
     ]
    },
    {
     "name": "stderr",
     "output_type": "stream",
     "text": [
      "/var/folders/qv/rxdwppfn7vs0fnsc3154yt9c0000gn/T/ipykernel_47099/2452987339.py:7: FutureWarning: 'Q' is deprecated and will be removed in a future version, please use 'QE' instead.\n",
      "  dates = pd.date_range('2020-01-01', periods=6, freq='Q')\n"
     ]
    }
   ],
   "source": [
    "import pandas as pd\n",
    "from featureBuilder import FeatureBuilder\n",
    "import transform as tf\n",
    "from transform import TSFM\n",
    "\n",
    "# 1. Create sample quarterly data\n",
    "dates = pd.date_range('2020-01-01', periods=6, freq='Q')\n",
    "df = pd.DataFrame({\n",
    "    'GDP': [1000, 1050, 1100, 1150, 1200, 1250],\n",
    "    'Unemp': [5.0, 4.8, 4.7, 4.5, 4.3, 4.2]\n",
    "}, index=dates)\n",
    "\n",
    "# 2. Define transform map: GDP -> growth rate, Unemp -> difference\n",
    "mev_transMap = {\n",
    "    'GDP': 'growthrate',\n",
    "    'Unemp': 'diff'\n",
    "}\n",
    "\n",
    "# 3. Instantiate FeatureBuilder\n",
    "fb = FeatureBuilder(\n",
    "    mev_transMap=mev_transMap,\n",
    "    freq='Q',\n",
    "    max_var_num=3,\n",
    "    forced_in=['GDP'],            # always include GDP level\n",
    "    driver_pool=['GDP', 'Unemp'], \n",
    "    desired_pool=['Unemp'],       # ensure Unemp appears\n",
    "    max_lag=2                     # allow up to 2 lags\n",
    ")\n",
    "\n",
    "# 4. Generate and display combinations\n",
    "combos = fb.generate_combinations()\n",
    "print(\"Generated TSFM combinations:\")\n",
    "for combo in combos:\n",
    "    print(combo)\n",
    "print(f\"\\nTotal combinations: {len(combos)}\")\n"
   ]
  },
  {
   "cell_type": "code",
   "execution_count": 5,
   "id": "712b514e",
   "metadata": {},
   "outputs": [
    {
     "data": {
      "text/plain": [
       "transform.TSFM"
      ]
     },
     "execution_count": 5,
     "metadata": {},
     "output_type": "execute_result"
    }
   ],
   "source": [
    "type(combos[0][0])"
   ]
  },
  {
   "cell_type": "code",
   "execution_count": null,
   "id": "4a242050",
   "metadata": {},
   "outputs": [],
   "source": [
    "df"
   ]
  }
 ],
 "metadata": {
  "kernelspec": {
   "display_name": "Python 3.11",
   "language": "python",
   "name": "py311"
  },
  "language_info": {
   "codemirror_mode": {
    "name": "ipython",
    "version": 3
   },
   "file_extension": ".py",
   "mimetype": "text/x-python",
   "name": "python",
   "nbconvert_exporter": "python",
   "pygments_lexer": "ipython3",
   "version": "3.11.0"
  }
 },
 "nbformat": 4,
 "nbformat_minor": 5
}
